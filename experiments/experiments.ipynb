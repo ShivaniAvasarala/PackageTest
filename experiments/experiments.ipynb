{
 "cells": [
  {
   "cell_type": "code",
   "execution_count": 1,
   "metadata": {},
   "outputs": [],
   "source": [
    "from collections.abc import MutableMapping"
   ]
  },
  {
   "cell_type": "code",
   "execution_count": 2,
   "metadata": {},
   "outputs": [],
   "source": [
    "from pymongo.mongo_client import MongoClient\n",
    "import urllib.parse\n",
    "\n",
    "username = urllib.parse.quote_plus(\"avasaralashivani\")\n",
    "password = urllib.parse.quote_plus(\"jJ6mP0xKJ2qGBXFG\")\n",
    "\n",
    "#Creating a new client and connecting to server\n",
    "client = MongoClient(\"mongodb+srv://%s:%s@cluster0.tehy7.mongodb.net/?retryWrites=true&w=majority&appName=Cluster0\" % (username,password))\n"
   ]
  },
  {
   "cell_type": "code",
   "execution_count": 3,
   "metadata": {},
   "outputs": [],
   "source": [
    "# Create a DB\n",
    "database = client['dbmongo']"
   ]
  },
  {
   "cell_type": "code",
   "execution_count": 4,
   "metadata": {},
   "outputs": [],
   "source": [
    "# Create a collection\n",
    "collection = database['collectionmongo']"
   ]
  },
  {
   "cell_type": "code",
   "execution_count": 5,
   "metadata": {},
   "outputs": [
    {
     "data": {
      "text/plain": [
       "[{'name': 'Shivani Avasarala', 'age': 24, 'city': 'Boston'},\n",
       " {'name': 'A Avasarala', 'age': 24, 'city': 'Boston'},\n",
       " {'name': 'B Avasarala', 'age': 24, 'city': 'Boston'}]"
      ]
     },
     "execution_count": 5,
     "metadata": {},
     "output_type": "execute_result"
    }
   ],
   "source": [
    "#Add a document/data to the collection\n",
    "data = [\n",
    "    {'name': 'Shivani Avasarala', 'age': 24, 'city': 'Boston'},\n",
    "    {'name': 'A Avasarala', 'age': 24, 'city': 'Boston'},\n",
    "    {'name': 'B Avasarala', 'age': 24, 'city': 'Boston'}\n",
    "\n",
    "]\n",
    "\n",
    "data"
   ]
  },
  {
   "cell_type": "code",
   "execution_count": 6,
   "metadata": {},
   "outputs": [
    {
     "data": {
      "text/plain": [
       "InsertManyResult([ObjectId('66df4c77efd29e89dc47b1bb'), ObjectId('66df4c77efd29e89dc47b1bc'), ObjectId('66df4c77efd29e89dc47b1bd')], acknowledged=True)"
      ]
     },
     "execution_count": 6,
     "metadata": {},
     "output_type": "execute_result"
    }
   ],
   "source": [
    "collection.insert_many(\n",
    "    [\n",
    "    {'name': 'Shivani Avasarala', 'age': 24, 'city': 'Boston'},\n",
    "    {'name': 'A Avasarala', 'age': 24, 'city': 'Boston'},\n",
    "    {'name': 'B Avasarala', 'age': 24, 'city': 'Boston'}\n",
    "    ]\n",
    ")"
   ]
  },
  {
   "cell_type": "code",
   "execution_count": 7,
   "metadata": {},
   "outputs": [
    {
     "name": "stdout",
     "output_type": "stream",
     "text": [
      "{'_id': ObjectId('66d77410a81504f4b77d2f70'), 'name': 'Shivani Avasarala', 'age': 24, 'city': 'Boston'}\n",
      "{'_id': ObjectId('66d77410a81504f4b77d2f71'), 'name': 'Shivani Avasarala', 'age': 24, 'city': 'Boston'}\n",
      "{'_id': ObjectId('66d77410a81504f4b77d2f72'), 'name': 'Shivani Avasarala', 'age': 24, 'city': 'Boston'}\n",
      "{'_id': ObjectId('66d8bac72735dc6f51ecb381'), 'name': 'Shivani Avasarala', 'age': 24, 'city': 'Boston'}\n",
      "{'_id': ObjectId('66d8bac72735dc6f51ecb382'), 'name': 'A Avasarala', 'age': 24, 'city': 'Boston'}\n",
      "{'_id': ObjectId('66d8bac72735dc6f51ecb383'), 'name': 'B Avasarala', 'age': 24, 'city': 'Boston'}\n",
      "{'_id': ObjectId('66d9ff29c8c805327a663c87'), 'name': 'Shivani Avasarala', 'age': 24, 'city': 'Boston'}\n",
      "{'_id': ObjectId('66d9ff29c8c805327a663c89'), 'name': 'B Avasarala', 'age': 24, 'city': 'Boston'}\n",
      "{'_id': ObjectId('66d9ff29c8c805327a663c88'), 'name': 'A Avasarala', 'age': 24, 'city': 'Boston'}\n",
      "{'_id': ObjectId('66df4c77efd29e89dc47b1bb'), 'name': 'Shivani Avasarala', 'age': 24, 'city': 'Boston'}\n",
      "{'_id': ObjectId('66df4c77efd29e89dc47b1bc'), 'name': 'A Avasarala', 'age': 24, 'city': 'Boston'}\n",
      "{'_id': ObjectId('66df4c77efd29e89dc47b1bd'), 'name': 'B Avasarala', 'age': 24, 'city': 'Boston'}\n"
     ]
    }
   ],
   "source": [
    "records = list(collection.find())\n",
    "for r in records:\n",
    "    print(r)"
   ]
  },
  {
   "cell_type": "code",
   "execution_count": 8,
   "metadata": {},
   "outputs": [],
   "source": [
    "#Create CRUD operations class\n",
    "import pandas as pd\n",
    "import json"
   ]
  },
  {
   "cell_type": "code",
   "execution_count": 9,
   "metadata": {},
   "outputs": [],
   "source": [
    "class mongo_crud_operations:\n",
    "    def __init__(self, client_url: str, database_name:str=None, collection_name:str=None):\n",
    "        self.client_url = client_url\n",
    "        self.database_name = database_name\n",
    "        self.collection_name = collection_name\n",
    "        \n",
    "    def create_client(self):\n",
    "        client = MongoClient(self.client_url)\n",
    "        return client\n",
    "    \n",
    "    def create_database(self):\n",
    "        client = self.create_client()\n",
    "        db = client[self.database_name]\n",
    "        return db\n",
    "    \n",
    "    def create_collection(self):\n",
    "        db = self.create_database()\n",
    "        collection = db[self.collection_name]\n",
    "        return collection\n",
    "    def insert_record(self, collection_name:str, data):\n",
    "        if type(data) == list:\n",
    "            for d in data:\n",
    "                if type(d) != dict:\n",
    "                    raise ValueError(\"Data should be in dictionary format\")\n",
    "            collection = self.create_collection()\n",
    "            collection.insert_many(data)\n",
    "            \n",
    "        elif type(data) == dict:\n",
    "            collection = self.create_collection()\n",
    "            collection.insert_one(data)\n",
    "                \n",
    "        else:\n",
    "            raise ValueError(\"Data should be in dictionary format\")\n",
    "        \n",
    "    def find_all_records(self, collection_name:str):\n",
    "        records = list(collection_name.find())\n",
    "        for r in records:\n",
    "            print(r)\n",
    "    \n",
    "    def find_record(self, collection_name:str, query:dict):\n",
    "        records = list(collection_name.find(query))\n",
    "        for r in records:\n",
    "            print(r)\n",
    "    def insert_in_bulk(self, datafile:str, collection_name:str):\n",
    "        self.path = datafile\n",
    "        \n",
    "        if self.path.endswith(\".json\"):\n",
    "            with open(self.path, \"r\") as file:\n",
    "                data = json.load(file)\n",
    "                \n",
    "        elif self.path.endswith(\".csv\"):\n",
    "            data = pd.read_csv(self.path, encoding='utf-8')\n",
    "        \n",
    "        elif self.path.endswith(\".xlsx\"):\n",
    "            data = pd.read_excel(self.path, encoding='utf-8')\n",
    "            \n",
    "                \n",
    "        datajson = json.loads(data.to_json(orient='records'))\n",
    "        collection = self.create_collection(collection_name)\n",
    "        collection.insert_many(datajson)"
   ]
  },
  {
   "cell_type": "code",
   "execution_count": 10,
   "metadata": {},
   "outputs": [],
   "source": [
    "client_url= 'mongodb+srv://%s:%s@cluster0.tehy7.mongodb.net/?retryWrites=true&w=majority&tlsAllowInvalidCertificates=true' % (username, password)\n",
    "database_name = '5SeptDB'\n",
    "collection_name= '5SeptCollection'\n"
   ]
  },
  {
   "cell_type": "code",
   "execution_count": 11,
   "metadata": {},
   "outputs": [],
   "source": [
    "mongo = mongo_crud_operations(client_url, database_name, collection_name)"
   ]
  },
  {
   "cell_type": "code",
   "execution_count": 12,
   "metadata": {},
   "outputs": [],
   "source": [
    "mongo.insert_record(collection_name,{\"name\":\"john\", \"address\":\"california\", \"ide\":\"sublime text\", \"language\":\"python\"} )"
   ]
  },
  {
   "cell_type": "code",
   "execution_count": 13,
   "metadata": {},
   "outputs": [],
   "source": [
    "mongo.insert_record(collection_name,[{\"name\":\"dave\", \"address\":\"california\", \"ide\":\"sublime text\", \"language\":\"python\"}])\n"
   ]
  },
  {
   "cell_type": "code",
   "execution_count": null,
   "metadata": {},
   "outputs": [],
   "source": []
  }
 ],
 "metadata": {
  "kernelspec": {
   "display_name": ".venv",
   "language": "python",
   "name": "python3"
  },
  "language_info": {
   "codemirror_mode": {
    "name": "ipython",
    "version": 3
   },
   "file_extension": ".py",
   "mimetype": "text/x-python",
   "name": "python",
   "nbconvert_exporter": "python",
   "pygments_lexer": "ipython3",
   "version": "3.12.4"
  }
 },
 "nbformat": 4,
 "nbformat_minor": 2
}
